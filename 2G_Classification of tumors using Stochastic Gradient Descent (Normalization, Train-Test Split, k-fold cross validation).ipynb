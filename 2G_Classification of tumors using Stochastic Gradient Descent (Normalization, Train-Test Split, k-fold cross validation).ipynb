{
  "metadata": {
    "kernelspec": {
      "name": "python",
      "display_name": "Python (Pyodide)",
      "language": "python"
    },
    "language_info": {
      "codemirror_mode": {
        "name": "python",
        "version": 3
      },
      "file_extension": ".py",
      "mimetype": "text/x-python",
      "name": "python",
      "nbconvert_exporter": "python",
      "pygments_lexer": "ipython3",
      "version": "3.8"
    },
    "celltoolbar": "Slideshow"
  },
  "nbformat_minor": 5,
  "nbformat": 4,
  "cells": [
    {
      "id": "conditional-physiology",
      "cell_type": "markdown",
      "source": "# Classification of tumors using Stochastic Gradient Descent (Normalization, Train-Test Split, k-fold cross validation) \n### The data refer to data from biopsies of breast cancer test samples.\n\n### The goal is to predict whether the biopsy data indicate the presence of a benign or malignant tumor.\n\n### We should separate our data into those that will be used for training and those that will be used for testing.",
      "metadata": {
        "slideshow": {
          "slide_type": "slide"
        }
      }
    },
    {
      "id": "scheduled-model",
      "cell_type": "markdown",
      "source": "* The data we will use is included in scikit-learn, so we can use it directly.",
      "metadata": {
        "slideshow": {
          "slide_type": "slide"
        }
      }
    },
    {
      "id": "continental-paraguay",
      "cell_type": "code",
      "source": "from sklearn import datasets\n\nbc = datasets.load_breast_cancer(as_frame=True)\nbc.data",
      "metadata": {
        "slideshow": {
          "slide_type": "fragment"
        }
      },
      "outputs": [
        {
          "data": {
            "text/html": [
              "<div>\n",
              "<style scoped>\n",
              "    .dataframe tbody tr th:only-of-type {\n",
              "        vertical-align: middle;\n",
              "    }\n",
              "\n",
              "    .dataframe tbody tr th {\n",
              "        vertical-align: top;\n",
              "    }\n",
              "\n",
              "    .dataframe thead th {\n",
              "        text-align: right;\n",
              "    }\n",
              "</style>\n",
              "<table border=\"1\" class=\"dataframe\">\n",
              "  <thead>\n",
              "    <tr style=\"text-align: right;\">\n",
              "      <th></th>\n",
              "      <th>mean radius</th>\n",
              "      <th>mean texture</th>\n",
              "      <th>mean perimeter</th>\n",
              "      <th>mean area</th>\n",
              "      <th>mean smoothness</th>\n",
              "      <th>mean compactness</th>\n",
              "      <th>mean concavity</th>\n",
              "      <th>mean concave points</th>\n",
              "      <th>mean symmetry</th>\n",
              "      <th>mean fractal dimension</th>\n",
              "      <th>...</th>\n",
              "      <th>worst radius</th>\n",
              "      <th>worst texture</th>\n",
              "      <th>worst perimeter</th>\n",
              "      <th>worst area</th>\n",
              "      <th>worst smoothness</th>\n",
              "      <th>worst compactness</th>\n",
              "      <th>worst concavity</th>\n",
              "      <th>worst concave points</th>\n",
              "      <th>worst symmetry</th>\n",
              "      <th>worst fractal dimension</th>\n",
              "    </tr>\n",
              "  </thead>\n",
              "  <tbody>\n",
              "    <tr>\n",
              "      <th>0</th>\n",
              "      <td>17.99</td>\n",
              "      <td>10.38</td>\n",
              "      <td>122.80</td>\n",
              "      <td>1001.0</td>\n",
              "      <td>0.11840</td>\n",
              "      <td>0.27760</td>\n",
              "      <td>0.30010</td>\n",
              "      <td>0.14710</td>\n",
              "      <td>0.2419</td>\n",
              "      <td>0.07871</td>\n",
              "      <td>...</td>\n",
              "      <td>25.380</td>\n",
              "      <td>17.33</td>\n",
              "      <td>184.60</td>\n",
              "      <td>2019.0</td>\n",
              "      <td>0.16220</td>\n",
              "      <td>0.66560</td>\n",
              "      <td>0.7119</td>\n",
              "      <td>0.2654</td>\n",
              "      <td>0.4601</td>\n",
              "      <td>0.11890</td>\n",
              "    </tr>\n",
              "    <tr>\n",
              "      <th>1</th>\n",
              "      <td>20.57</td>\n",
              "      <td>17.77</td>\n",
              "      <td>132.90</td>\n",
              "      <td>1326.0</td>\n",
              "      <td>0.08474</td>\n",
              "      <td>0.07864</td>\n",
              "      <td>0.08690</td>\n",
              "      <td>0.07017</td>\n",
              "      <td>0.1812</td>\n",
              "      <td>0.05667</td>\n",
              "      <td>...</td>\n",
              "      <td>24.990</td>\n",
              "      <td>23.41</td>\n",
              "      <td>158.80</td>\n",
              "      <td>1956.0</td>\n",
              "      <td>0.12380</td>\n",
              "      <td>0.18660</td>\n",
              "      <td>0.2416</td>\n",
              "      <td>0.1860</td>\n",
              "      <td>0.2750</td>\n",
              "      <td>0.08902</td>\n",
              "    </tr>\n",
              "    <tr>\n",
              "      <th>2</th>\n",
              "      <td>19.69</td>\n",
              "      <td>21.25</td>\n",
              "      <td>130.00</td>\n",
              "      <td>1203.0</td>\n",
              "      <td>0.10960</td>\n",
              "      <td>0.15990</td>\n",
              "      <td>0.19740</td>\n",
              "      <td>0.12790</td>\n",
              "      <td>0.2069</td>\n",
              "      <td>0.05999</td>\n",
              "      <td>...</td>\n",
              "      <td>23.570</td>\n",
              "      <td>25.53</td>\n",
              "      <td>152.50</td>\n",
              "      <td>1709.0</td>\n",
              "      <td>0.14440</td>\n",
              "      <td>0.42450</td>\n",
              "      <td>0.4504</td>\n",
              "      <td>0.2430</td>\n",
              "      <td>0.3613</td>\n",
              "      <td>0.08758</td>\n",
              "    </tr>\n",
              "    <tr>\n",
              "      <th>3</th>\n",
              "      <td>11.42</td>\n",
              "      <td>20.38</td>\n",
              "      <td>77.58</td>\n",
              "      <td>386.1</td>\n",
              "      <td>0.14250</td>\n",
              "      <td>0.28390</td>\n",
              "      <td>0.24140</td>\n",
              "      <td>0.10520</td>\n",
              "      <td>0.2597</td>\n",
              "      <td>0.09744</td>\n",
              "      <td>...</td>\n",
              "      <td>14.910</td>\n",
              "      <td>26.50</td>\n",
              "      <td>98.87</td>\n",
              "      <td>567.7</td>\n",
              "      <td>0.20980</td>\n",
              "      <td>0.86630</td>\n",
              "      <td>0.6869</td>\n",
              "      <td>0.2575</td>\n",
              "      <td>0.6638</td>\n",
              "      <td>0.17300</td>\n",
              "    </tr>\n",
              "    <tr>\n",
              "      <th>4</th>\n",
              "      <td>20.29</td>\n",
              "      <td>14.34</td>\n",
              "      <td>135.10</td>\n",
              "      <td>1297.0</td>\n",
              "      <td>0.10030</td>\n",
              "      <td>0.13280</td>\n",
              "      <td>0.19800</td>\n",
              "      <td>0.10430</td>\n",
              "      <td>0.1809</td>\n",
              "      <td>0.05883</td>\n",
              "      <td>...</td>\n",
              "      <td>22.540</td>\n",
              "      <td>16.67</td>\n",
              "      <td>152.20</td>\n",
              "      <td>1575.0</td>\n",
              "      <td>0.13740</td>\n",
              "      <td>0.20500</td>\n",
              "      <td>0.4000</td>\n",
              "      <td>0.1625</td>\n",
              "      <td>0.2364</td>\n",
              "      <td>0.07678</td>\n",
              "    </tr>\n",
              "    <tr>\n",
              "      <th>...</th>\n",
              "      <td>...</td>\n",
              "      <td>...</td>\n",
              "      <td>...</td>\n",
              "      <td>...</td>\n",
              "      <td>...</td>\n",
              "      <td>...</td>\n",
              "      <td>...</td>\n",
              "      <td>...</td>\n",
              "      <td>...</td>\n",
              "      <td>...</td>\n",
              "      <td>...</td>\n",
              "      <td>...</td>\n",
              "      <td>...</td>\n",
              "      <td>...</td>\n",
              "      <td>...</td>\n",
              "      <td>...</td>\n",
              "      <td>...</td>\n",
              "      <td>...</td>\n",
              "      <td>...</td>\n",
              "      <td>...</td>\n",
              "      <td>...</td>\n",
              "    </tr>\n",
              "    <tr>\n",
              "      <th>564</th>\n",
              "      <td>21.56</td>\n",
              "      <td>22.39</td>\n",
              "      <td>142.00</td>\n",
              "      <td>1479.0</td>\n",
              "      <td>0.11100</td>\n",
              "      <td>0.11590</td>\n",
              "      <td>0.24390</td>\n",
              "      <td>0.13890</td>\n",
              "      <td>0.1726</td>\n",
              "      <td>0.05623</td>\n",
              "      <td>...</td>\n",
              "      <td>25.450</td>\n",
              "      <td>26.40</td>\n",
              "      <td>166.10</td>\n",
              "      <td>2027.0</td>\n",
              "      <td>0.14100</td>\n",
              "      <td>0.21130</td>\n",
              "      <td>0.4107</td>\n",
              "      <td>0.2216</td>\n",
              "      <td>0.2060</td>\n",
              "      <td>0.07115</td>\n",
              "    </tr>\n",
              "    <tr>\n",
              "      <th>565</th>\n",
              "      <td>20.13</td>\n",
              "      <td>28.25</td>\n",
              "      <td>131.20</td>\n",
              "      <td>1261.0</td>\n",
              "      <td>0.09780</td>\n",
              "      <td>0.10340</td>\n",
              "      <td>0.14400</td>\n",
              "      <td>0.09791</td>\n",
              "      <td>0.1752</td>\n",
              "      <td>0.05533</td>\n",
              "      <td>...</td>\n",
              "      <td>23.690</td>\n",
              "      <td>38.25</td>\n",
              "      <td>155.00</td>\n",
              "      <td>1731.0</td>\n",
              "      <td>0.11660</td>\n",
              "      <td>0.19220</td>\n",
              "      <td>0.3215</td>\n",
              "      <td>0.1628</td>\n",
              "      <td>0.2572</td>\n",
              "      <td>0.06637</td>\n",
              "    </tr>\n",
              "    <tr>\n",
              "      <th>566</th>\n",
              "      <td>16.60</td>\n",
              "      <td>28.08</td>\n",
              "      <td>108.30</td>\n",
              "      <td>858.1</td>\n",
              "      <td>0.08455</td>\n",
              "      <td>0.10230</td>\n",
              "      <td>0.09251</td>\n",
              "      <td>0.05302</td>\n",
              "      <td>0.1590</td>\n",
              "      <td>0.05648</td>\n",
              "      <td>...</td>\n",
              "      <td>18.980</td>\n",
              "      <td>34.12</td>\n",
              "      <td>126.70</td>\n",
              "      <td>1124.0</td>\n",
              "      <td>0.11390</td>\n",
              "      <td>0.30940</td>\n",
              "      <td>0.3403</td>\n",
              "      <td>0.1418</td>\n",
              "      <td>0.2218</td>\n",
              "      <td>0.07820</td>\n",
              "    </tr>\n",
              "    <tr>\n",
              "      <th>567</th>\n",
              "      <td>20.60</td>\n",
              "      <td>29.33</td>\n",
              "      <td>140.10</td>\n",
              "      <td>1265.0</td>\n",
              "      <td>0.11780</td>\n",
              "      <td>0.27700</td>\n",
              "      <td>0.35140</td>\n",
              "      <td>0.15200</td>\n",
              "      <td>0.2397</td>\n",
              "      <td>0.07016</td>\n",
              "      <td>...</td>\n",
              "      <td>25.740</td>\n",
              "      <td>39.42</td>\n",
              "      <td>184.60</td>\n",
              "      <td>1821.0</td>\n",
              "      <td>0.16500</td>\n",
              "      <td>0.86810</td>\n",
              "      <td>0.9387</td>\n",
              "      <td>0.2650</td>\n",
              "      <td>0.4087</td>\n",
              "      <td>0.12400</td>\n",
              "    </tr>\n",
              "    <tr>\n",
              "      <th>568</th>\n",
              "      <td>7.76</td>\n",
              "      <td>24.54</td>\n",
              "      <td>47.92</td>\n",
              "      <td>181.0</td>\n",
              "      <td>0.05263</td>\n",
              "      <td>0.04362</td>\n",
              "      <td>0.00000</td>\n",
              "      <td>0.00000</td>\n",
              "      <td>0.1587</td>\n",
              "      <td>0.05884</td>\n",
              "      <td>...</td>\n",
              "      <td>9.456</td>\n",
              "      <td>30.37</td>\n",
              "      <td>59.16</td>\n",
              "      <td>268.6</td>\n",
              "      <td>0.08996</td>\n",
              "      <td>0.06444</td>\n",
              "      <td>0.0000</td>\n",
              "      <td>0.0000</td>\n",
              "      <td>0.2871</td>\n",
              "      <td>0.07039</td>\n",
              "    </tr>\n",
              "  </tbody>\n",
              "</table>\n",
              "<p>569 rows × 30 columns</p>\n",
              "</div>"
            ],
            "text/plain": [
              "     mean radius  mean texture  mean perimeter  mean area  mean smoothness  \\\n",
              "0          17.99         10.38          122.80     1001.0          0.11840   \n",
              "1          20.57         17.77          132.90     1326.0          0.08474   \n",
              "2          19.69         21.25          130.00     1203.0          0.10960   \n",
              "3          11.42         20.38           77.58      386.1          0.14250   \n",
              "4          20.29         14.34          135.10     1297.0          0.10030   \n",
              "..           ...           ...             ...        ...              ...   \n",
              "564        21.56         22.39          142.00     1479.0          0.11100   \n",
              "565        20.13         28.25          131.20     1261.0          0.09780   \n",
              "566        16.60         28.08          108.30      858.1          0.08455   \n",
              "567        20.60         29.33          140.10     1265.0          0.11780   \n",
              "568         7.76         24.54           47.92      181.0          0.05263   \n",
              "\n",
              "     mean compactness  mean concavity  mean concave points  mean symmetry  \\\n",
              "0             0.27760         0.30010              0.14710         0.2419   \n",
              "1             0.07864         0.08690              0.07017         0.1812   \n",
              "2             0.15990         0.19740              0.12790         0.2069   \n",
              "3             0.28390         0.24140              0.10520         0.2597   \n",
              "4             0.13280         0.19800              0.10430         0.1809   \n",
              "..                ...             ...                  ...            ...   \n",
              "564           0.11590         0.24390              0.13890         0.1726   \n",
              "565           0.10340         0.14400              0.09791         0.1752   \n",
              "566           0.10230         0.09251              0.05302         0.1590   \n",
              "567           0.27700         0.35140              0.15200         0.2397   \n",
              "568           0.04362         0.00000              0.00000         0.1587   \n",
              "\n",
              "     mean fractal dimension  ...  worst radius  worst texture  \\\n",
              "0                   0.07871  ...        25.380          17.33   \n",
              "1                   0.05667  ...        24.990          23.41   \n",
              "2                   0.05999  ...        23.570          25.53   \n",
              "3                   0.09744  ...        14.910          26.50   \n",
              "4                   0.05883  ...        22.540          16.67   \n",
              "..                      ...  ...           ...            ...   \n",
              "564                 0.05623  ...        25.450          26.40   \n",
              "565                 0.05533  ...        23.690          38.25   \n",
              "566                 0.05648  ...        18.980          34.12   \n",
              "567                 0.07016  ...        25.740          39.42   \n",
              "568                 0.05884  ...         9.456          30.37   \n",
              "\n",
              "     worst perimeter  worst area  worst smoothness  worst compactness  \\\n",
              "0             184.60      2019.0           0.16220            0.66560   \n",
              "1             158.80      1956.0           0.12380            0.18660   \n",
              "2             152.50      1709.0           0.14440            0.42450   \n",
              "3              98.87       567.7           0.20980            0.86630   \n",
              "4             152.20      1575.0           0.13740            0.20500   \n",
              "..               ...         ...               ...                ...   \n",
              "564           166.10      2027.0           0.14100            0.21130   \n",
              "565           155.00      1731.0           0.11660            0.19220   \n",
              "566           126.70      1124.0           0.11390            0.30940   \n",
              "567           184.60      1821.0           0.16500            0.86810   \n",
              "568            59.16       268.6           0.08996            0.06444   \n",
              "\n",
              "     worst concavity  worst concave points  worst symmetry  \\\n",
              "0             0.7119                0.2654          0.4601   \n",
              "1             0.2416                0.1860          0.2750   \n",
              "2             0.4504                0.2430          0.3613   \n",
              "3             0.6869                0.2575          0.6638   \n",
              "4             0.4000                0.1625          0.2364   \n",
              "..               ...                   ...             ...   \n",
              "564           0.4107                0.2216          0.2060   \n",
              "565           0.3215                0.1628          0.2572   \n",
              "566           0.3403                0.1418          0.2218   \n",
              "567           0.9387                0.2650          0.4087   \n",
              "568           0.0000                0.0000          0.2871   \n",
              "\n",
              "     worst fractal dimension  \n",
              "0                    0.11890  \n",
              "1                    0.08902  \n",
              "2                    0.08758  \n",
              "3                    0.17300  \n",
              "4                    0.07678  \n",
              "..                       ...  \n",
              "564                  0.07115  \n",
              "565                  0.06637  \n",
              "566                  0.07820  \n",
              "567                  0.12400  \n",
              "568                  0.07039  \n",
              "\n",
              "[569 rows x 30 columns]"
            ]
          },
          "execution_count": 1,
          "metadata": {},
          "output_type": "execute_result"
        }
      ],
      "execution_count": 1
    },
    {
      "id": "amateur-lexington",
      "cell_type": "markdown",
      "source": "",
      "metadata": {
        "slideshow": {
          "slide_type": "slide"
        }
      }
    },
    {
      "id": "molecular-coordinator",
      "cell_type": "code",
      "source": "bc.target",
      "metadata": {
        "slideshow": {
          "slide_type": "fragment"
        }
      },
      "outputs": [
        {
          "data": {
            "text/plain": [
              "0      0\n",
              "1      0\n",
              "2      0\n",
              "3      0\n",
              "4      0\n",
              "      ..\n",
              "564    0\n",
              "565    0\n",
              "566    0\n",
              "567    0\n",
              "568    1\n",
              "Name: target, Length: 569, dtype: int64"
            ]
          },
          "execution_count": 2,
          "metadata": {},
          "output_type": "execute_result"
        }
      ],
      "execution_count": 2
    },
    {
      "id": "configured-australian",
      "cell_type": "markdown",
      "source": "* scikit-learn has `train_test_split()` function which makes it easier for us.\n\n* As `train_test_split()` splits the data randomly, each time we will get different data for training and for testing.",
      "metadata": {
        "slideshow": {
          "slide_type": "slide"
        }
      }
    },
    {
      "id": "touched-carbon",
      "cell_type": "markdown",
      "source": "* More generally in scikit-learn if we want a stochastic method to always give the same results, we should properly initialize the pseudorandom number generator it uses, with the `random_state` parameter.\n\n* We do this here as this is used for training purposes and we don't want the results to change on every run. In production of course we don't need to do this.",
      "metadata": {
        "slideshow": {
          "slide_type": "slide"
        }
      }
    },
    {
      "id": "accompanied-anthony",
      "cell_type": "code",
      "source": "from sklearn.model_selection import train_test_split\n\nX_train, X_test, y_train, y_test = train_test_split(bc.data, bc.target, test_size=0.25, \n                                                    random_state=1234)\n\nprint(X_train.shape, y_train.shape)",
      "metadata": {
        "slideshow": {
          "slide_type": "fragment"
        }
      },
      "outputs": [
        {
          "name": "stdout",
          "output_type": "stream",
          "text": [
            "(426, 30) (426,)\n"
          ]
        }
      ],
      "execution_count": 3
    },
    {
      "id": "spare-province",
      "cell_type": "markdown",
      "source": "* We will start with a Support Vector Machine.",
      "metadata": {
        "slideshow": {
          "slide_type": "slide"
        }
      }
    },
    {
      "id": "exposed-portrait",
      "cell_type": "code",
      "source": "from sklearn.svm import SVC\n\nsvm_clf = SVC()",
      "metadata": {
        "slideshow": {
          "slide_type": "fragment"
        }
      },
      "outputs": [],
      "execution_count": 4
    },
    {
      "id": "stuffed-maine",
      "cell_type": "markdown",
      "source": "* By default we call `fit()` on the training data.",
      "metadata": {
        "slideshow": {
          "slide_type": "slide"
        }
      }
    },
    {
      "id": "running-grave",
      "cell_type": "code",
      "source": "svm_clf.fit(X_train, y_train)",
      "metadata": {
        "slideshow": {
          "slide_type": "fragment"
        }
      },
      "outputs": [
        {
          "data": {
            "text/plain": [
              "SVC()"
            ]
          },
          "execution_count": 5,
          "metadata": {},
          "output_type": "execute_result"
        }
      ],
      "execution_count": 5
    },
    {
      "id": "civil-charge",
      "cell_type": "markdown",
      "source": "* And then `predict()` on the control data.",
      "metadata": {
        "slideshow": {
          "slide_type": "slide"
        }
      }
    },
    {
      "id": "stylish-leone",
      "cell_type": "code",
      "source": "predicted = svm_clf.predict(X_test)",
      "metadata": {
        "slideshow": {
          "slide_type": "fragment"
        }
      },
      "outputs": [],
      "execution_count": 6
    },
    {
      "id": "guilty-tribute",
      "cell_type": "markdown",
      "source": "* Let's see how we did.",
      "metadata": {
        "slideshow": {
          "slide_type": "slide"
        }
      }
    },
    {
      "id": "third-disabled",
      "cell_type": "code",
      "source": "from sklearn.metrics import classification_report\n\nprint(classification_report(y_test, predicted))",
      "metadata": {
        "slideshow": {
          "slide_type": "fragment"
        }
      },
      "outputs": [
        {
          "name": "stdout",
          "output_type": "stream",
          "text": [
            "              precision    recall  f1-score   support\n",
            "\n",
            "           0       1.00      0.78      0.88        55\n",
            "           1       0.88      1.00      0.94        88\n",
            "\n",
            "    accuracy                           0.92       143\n",
            "   macro avg       0.94      0.89      0.91       143\n",
            "weighted avg       0.93      0.92      0.91       143\n",
            "\n"
          ]
        }
      ],
      "execution_count": 7
    },
    {
      "id": "registered-miniature",
      "cell_type": "markdown",
      "source": "* Our classifier uses the default kernel (`kernel='rbf'`), which as we have seen can distinguish non-linearly separable data.\n\n* But is it surely the best choice as a hyperparameter?\n\n* Is the data linearly separable?",
      "metadata": {
        "slideshow": {
          "slide_type": "slide"
        }
      }
    },
    {
      "id": "allied-symposium",
      "cell_type": "code",
      "source": "svm_clf = SVC(kernel='linear')\nsvm_clf.fit(X_train, y_train)\npredicted = svm_clf.predict(X_test)\nprint(classification_report(y_test, predicted))",
      "metadata": {
        "slideshow": {
          "slide_type": "fragment"
        }
      },
      "outputs": [
        {
          "name": "stdout",
          "output_type": "stream",
          "text": [
            "              precision    recall  f1-score   support\n",
            "\n",
            "           0       0.96      0.89      0.92        55\n",
            "           1       0.93      0.98      0.96        88\n",
            "\n",
            "    accuracy                           0.94       143\n",
            "   macro avg       0.95      0.93      0.94       143\n",
            "weighted avg       0.94      0.94      0.94       143\n",
            "\n"
          ]
        }
      ],
      "execution_count": 8
    },
    {
      "id": "skilled-shoulder",
      "cell_type": "markdown",
      "source": "* One of the advantages of scikit-learn is that, as we have said, it offers many different Machine Learning methods.\n\n* A popular Machine Learning method is Stochastic Gradient Descent.",
      "metadata": {
        "slideshow": {
          "slide_type": "slide"
        }
      }
    },
    {
      "id": "agricultural-richards",
      "cell_type": "markdown",
      "source": "* Stochastic Gradient Descent works in a completely different way than Support Vector Machines.\n\n* Internally it creates a linear function, which based on the characteristics of our data calculates the target (class) we want.\n\n* During training, this function will (probably) make wrong predictions.",
      "metadata": {
        "slideshow": {
          "slide_type": "slide"
        }
      }
    },
    {
      "id": "concrete-monaco",
      "cell_type": "markdown",
      "source": "* We want to minimize this error, which is called *loss*.\n\n* From mathematical analysis we know that to minimize a function we use derivatives.\n\n* The derivative of a function at a point gives us the slope at that point.",
      "metadata": {
        "slideshow": {
          "slide_type": "slide"
        }
      }
    },
    {
      "id": "scenic-marijuana",
      "cell_type": "markdown",
      "source": "* Stochastic Slope Descent tries to fit the function to get the lowest possible loss (error) based on the slope at each point (training data).\n\n* It is called stochastic because in the training process we take random batches of samples from our data and calculate the loss and corrections to the derivative-based function.",
      "metadata": {
        "slideshow": {
          "slide_type": "slide"
        }
      }
    },
    {
      "id": "rotary-morocco",
      "cell_type": "markdown",
      "source": "* Let's see it in practice.",
      "metadata": {
        "slideshow": {
          "slide_type": "slide"
        }
      }
    },
    {
      "id": "gothic-biography",
      "cell_type": "code",
      "source": "from sklearn.linear_model import SGDClassifier\n\nsgd_clf = SGDClassifier(random_state=1234)\nsgd_clf.fit(X_train, y_train)",
      "metadata": {
        "slideshow": {
          "slide_type": "fragment"
        }
      },
      "outputs": [
        {
          "data": {
            "text/plain": [
              "SGDClassifier(random_state=1234)"
            ]
          },
          "execution_count": 9,
          "metadata": {},
          "output_type": "execute_result"
        }
      ],
      "execution_count": 9
    },
    {
      "id": "material-roads",
      "cell_type": "markdown",
      "source": "* We predict and get the classification report again.",
      "metadata": {
        "slideshow": {
          "slide_type": "slide"
        }
      }
    },
    {
      "id": "intensive-british",
      "cell_type": "code",
      "source": "predicted = sgd_clf.predict(X_test)\nprint(classification_report(y_test, predicted))",
      "metadata": {
        "slideshow": {
          "slide_type": "fragment"
        }
      },
      "outputs": [
        {
          "name": "stdout",
          "output_type": "stream",
          "text": [
            "              precision    recall  f1-score   support\n",
            "\n",
            "           0       0.96      0.78      0.86        55\n",
            "           1       0.88      0.98      0.92        88\n",
            "\n",
            "    accuracy                           0.90       143\n",
            "   macro avg       0.92      0.88      0.89       143\n",
            "weighted avg       0.91      0.90      0.90       143\n",
            "\n"
          ]
        }
      ],
      "execution_count": 10
    },
    {
      "id": "familiar-garlic",
      "cell_type": "markdown",
      "source": "* The results are encouraging.\n\n* We can see if we can do even better.\n\n* One way is to try other hyperparameters.\n\n* But there is something else, which until now we have overlooked.",
      "metadata": {
        "slideshow": {
          "slide_type": "slide"
        }
      }
    },
    {
      "id": "likely-assist",
      "cell_type": "markdown",
      "source": "* To see the individual distributions for each of the features (dimensions) of our data.",
      "metadata": {
        "slideshow": {
          "slide_type": "slide"
        }
      }
    },
    {
      "id": "adapted-laundry",
      "cell_type": "code",
      "source": "_ = bc.data.hist(figsize=(16, 20), bins=30)",
      "metadata": {
        "slideshow": {
          "slide_type": "fragment"
        }
      },
      "outputs": [
        {
          "data": {
            "image/png": "[encoded data removed]",
            "text/plain": [
              "<Figure size 1152x1440 with 30 Axes>"
            ]
          },
          "metadata": {
            "needs_background": "light"
          },
          "output_type": "display_data"
        }
      ],
      "execution_count": 11
    },
    {
      "id": "desperate-terrain",
      "cell_type": "markdown",
      "source": "* We notice that different features (dimensions) have very different distributions.\n\n* Some Machine Learning methods give better results if the data is *normalised*.\n\n* There are several ways to normalize our data:\n\n * Transform the data so that the values ​​of each column range in the interval $[0, 1]$.\n * Let's transform the data so that the values ​​of each column range in the interval $[-1, 1]$.\n * Transform the data so that the values ​​in each column have a mean of $0$ and a variance of $1$.\n\n* All this (and more) can be done by scikit-learn.",
      "metadata": {
        "slideshow": {
          "slide_type": "slide"
        }
      }
    },
    {
      "id": "civilian-military",
      "cell_type": "markdown",
      "source": "* Stochastic Gradient Descent (but also Support Vector Machines) are among the methods that (usually) require normalization.\n\n* So we will normalize our data to have mean $0$ and variance $1$, using a `StandardScaler`.\n\n* To do the normalization, we train our normalizer *on the training data*.\n\n* In practice this means that `StandardScaler` will learn, for each column, the mean $\\mu$ and the variance $\\sigma^2$.",
      "metadata": {
        "slideshow": {
          "slide_type": "slide"
        }
      }
    },
    {
      "id": "geographic-modeling",
      "cell_type": "code",
      "source": "from sklearn.preprocessing import StandardScaler\n\nscaler = StandardScaler()\nscaler.fit(X_train)",
      "metadata": {
        "slideshow": {
          "slide_type": "fragment"
        }
      },
      "outputs": [
        {
          "data": {
            "text/plain": [
              "StandardScaler()"
            ]
          },
          "execution_count": 12,
          "metadata": {},
          "output_type": "execute_result"
        }
      ],
      "execution_count": 12
    },
    {
      "id": "compact-mattress",
      "cell_type": "markdown",
      "source": "* Next, we transform our data, both training and control, by calling the `transform()` method.\n\n* In practice `StandardScaler` performs for each element $x$ the operation:\n\n $$ x' = \\frac{x-\\mu}{\\sigma^2} $$\n\n where $\\mu$ is the column mean and $\\sigma^2$ is the column variance.",
      "metadata": {
        "slideshow": {
          "slide_type": "slide"
        }
      }
    },
    {
      "id": "elegant-extraction",
      "cell_type": "code",
      "source": "X_train_scaled = scaler.transform(X_train)\nX_test_scaled = scaler.transform(X_test)",
      "metadata": {
        "slideshow": {
          "slide_type": "fragment"
        }
      },
      "outputs": [],
      "execution_count": 13
    },
    {
      "id": "simple-integral",
      "cell_type": "markdown",
      "source": "* We apply our classifier to the normalized data.",
      "metadata": {
        "slideshow": {
          "slide_type": "slide"
        }
      }
    },
    {
      "id": "relative-montana",
      "cell_type": "code",
      "source": "sgd_clf = SGDClassifier(random_state=1234)\nsgd_clf.fit(X_train_scaled, y_train)\npredicted = sgd_clf.predict(X_test_scaled)\nprint(classification_report(y_test, predicted))",
      "metadata": {
        "slideshow": {
          "slide_type": "fragment"
        }
      },
      "outputs": [
        {
          "name": "stdout",
          "output_type": "stream",
          "text": [
            "              precision    recall  f1-score   support\n",
            "\n",
            "           0       0.98      0.93      0.95        55\n",
            "           1       0.96      0.99      0.97        88\n",
            "\n",
            "    accuracy                           0.97       143\n",
            "   macro avg       0.97      0.96      0.96       143\n",
            "weighted avg       0.97      0.97      0.96       143\n",
            "\n"
          ]
        }
      ],
      "execution_count": 14
    },
    {
      "id": "primary-complaint",
      "cell_type": "markdown",
      "source": "* With `train_test_split()` we simplify the process of generating training and test data.\n\n* But there is one issue.\n\n* Since the training and testing results are the result of random sampling, the estimation we get (eg with `classification_report()`) will depend on the sampling.\n\n* Indeed, if you run this notebook repeatedly without setting `random_state` you will get different results.",
      "metadata": {
        "slideshow": {
          "slide_type": "slide"
        }
      }
    },
    {
      "id": "institutional-cannon",
      "cell_type": "markdown",
      "source": "* So to get a better estimate of the performance of our classifier, we can use another approach.\n\n* In the *k-fold cross validation* method, we perform not one, but $k$ checks.\n\n* In each of the validations we take a different slice (or slice) containing $1/k$ of our data, keep the slice for testing, and use the rest for training.",
      "metadata": {
        "slideshow": {
          "slide_type": "slide"
        }
      }
    },
    {
      "id": "permanent-wales",
      "cell_type": "markdown",
      "source": "<img src=\"https://upload.wikimedia.org/wikipedia/commons/b/b5/K-fold_cross_validation_EN.svg\" />\n\nΠηγή: https://en.wikipedia.org/wiki/Cross-validation_(statistics)",
      "metadata": {
        "slideshow": {
          "slide_type": "slide"
        }
      }
    },
    {
      "id": "sunset-machine",
      "cell_type": "markdown",
      "source": "* So let's see how we can use the approach with scikit-learn.",
      "metadata": {
        "slideshow": {
          "slide_type": "slide"
        }
      }
    },
    {
      "id": "civic-clerk",
      "cell_type": "code",
      "source": "from sklearn.model_selection import cross_val_score\n\nsgd_clf = SGDClassifier(random_state=1234)\nscores = cross_val_score(sgd_clf, bc.data, bc.target, cv=5)\nscores",
      "metadata": {
        "slideshow": {
          "slide_type": "fragment"
        }
      },
      "outputs": [
        {
          "data": {
            "text/plain": [
              "array([0.87719298, 0.92982456, 0.90350877, 0.95614035, 0.91150442])"
            ]
          },
          "execution_count": 15,
          "metadata": {},
          "output_type": "execute_result"
        }
      ],
      "execution_count": 15
    },
    {
      "id": "emotional-hungarian",
      "cell_type": "markdown",
      "source": "* So if we want to have a better view of the performance of our classifier it would be:",
      "metadata": {
        "slideshow": {
          "slide_type": "slide"
        }
      }
    },
    {
      "id": "relative-grain",
      "cell_type": "code",
      "source": "print(scores.mean(), scores.std())",
      "metadata": {
        "slideshow": {
          "slide_type": "fragment"
        }
      },
      "outputs": [
        {
          "name": "stdout",
          "output_type": "stream",
          "text": [
            "0.9156342182890855 0.02639667733319382\n"
          ]
        }
      ],
      "execution_count": 16
    },
    {
      "id": "affected-wound",
      "cell_type": "markdown",
      "source": "* But we saw that we can get better results if we normalize the data.\n\n* So we want on each validation to generate training data and test data, train `StandardScaler` on the training data *only*, apply it to both training and test data, and train the classifier and then its evaluation.\n\n* To do everything correctly and in order, we can use the *pipeline* feature offered by scikit-learn.",
      "metadata": {
        "slideshow": {
          "slide_type": "slide"
        }
      }
    },
    {
      "id": "permanent-tiger",
      "cell_type": "code",
      "source": "from sklearn.pipeline import make_pipeline\n\nclf = make_pipeline(StandardScaler(), SGDClassifier(random_state=1234))\nscores = cross_val_score(clf, bc.data, bc.target, cv=5)\nscores",
      "metadata": {
        "slideshow": {
          "slide_type": "fragment"
        }
      },
      "outputs": [
        {
          "data": {
            "text/plain": [
              "array([0.96491228, 0.98245614, 0.94736842, 0.96491228, 0.99115044])"
            ]
          },
          "execution_count": 17,
          "metadata": {},
          "output_type": "execute_result"
        }
      ],
      "execution_count": 17
    },
    {
      "id": "identical-civilian",
      "cell_type": "markdown",
      "source": "* So after normalization, we can judge the performance of our classifier:",
      "metadata": {
        "slideshow": {
          "slide_type": "slide"
        }
      }
    },
    {
      "id": "daily-beverage",
      "cell_type": "code",
      "source": "print(scores.mean(), scores.std())",
      "metadata": {
        "slideshow": {
          "slide_type": "fragment"
        }
      },
      "outputs": [
        {
          "name": "stdout",
          "output_type": "stream",
          "text": [
            "0.9701599130569786 0.01527302805266976\n"
          ]
        }
      ],
      "execution_count": 18
    },
    {
      "id": "neutral-madagascar",
      "cell_type": "markdown",
      "source": "* And now, we may ask, which classifier shall we use, out of the five constructed?\n\n* The answer is, none of them.\n\n* The five classifiers we built to get an estimate of the performance of our approach.\n\n* Once we have it, we can retrain our classifier with the full set of data now available to us.",
      "metadata": {
        "slideshow": {
          "slide_type": "slide"
        }
      }
    }
  ]
}