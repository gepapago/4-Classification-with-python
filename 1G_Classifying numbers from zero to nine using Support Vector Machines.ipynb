{
  "metadata": {
    "kernelspec": {
      "name": "python",
      "display_name": "Python (Pyodide)",
      "language": "python"
    },
    "language_info": {
      "codemirror_mode": {
        "name": "python",
        "version": 3
      },
      "file_extension": ".py",
      "mimetype": "text/x-python",
      "name": "python",
      "nbconvert_exporter": "python",
      "pygments_lexer": "ipython3",
      "version": "3.8"
    },
    "celltoolbar": "Slideshow"
  },
  "nbformat_minor": 4,
  "nbformat": 4,
  "cells": [
    {
      "cell_type": "markdown",
      "source": "# Classifying numbers from zero to nine using Support Vector Machines\n### We will build a classifier for recognizing handwritten digits.\n### We will use data included in scikit-learn for educational purposes.",
      "metadata": {
        "slideshow": {
          "slide_type": "slide"
        }
      }
    },
    {
      "cell_type": "markdown",
      "source": "* Samples are stored in a table, with one row per sample and one column for each attribute (dimension)\n\n* The core library for Machine Learning in Python is [scikit-learn](https://scikit-learn.org/).",
      "metadata": {
        "slideshow": {
          "slide_type": "slide"
        }
      }
    },
    {
      "cell_type": "code",
      "source": "from sklearn import datasets\n\ndigits = datasets.load_digits()\n\nprint(digits.data.shape)\ndigits.data ",
      "metadata": {
        "slideshow": {
          "slide_type": "fragment"
        }
      },
      "outputs": [
        {
          "name": "stdout",
          "output_type": "stream",
          "text": [
            "(1797, 64)\n"
          ]
        },
        {
          "data": {
            "text/plain": [
              "array([[ 0.,  0.,  5., ...,  0.,  0.,  0.],\n",
              "       [ 0.,  0.,  0., ..., 10.,  0.,  0.],\n",
              "       [ 0.,  0.,  0., ..., 16.,  9.,  0.],\n",
              "       ...,\n",
              "       [ 0.,  0.,  1., ...,  6.,  0.,  0.],\n",
              "       [ 0.,  0.,  2., ..., 12.,  0.,  0.],\n",
              "       [ 0.,  0., 10., ..., 12.,  1.,  0.]])"
            ]
          },
          "execution_count": 1,
          "metadata": {},
          "output_type": "execute_result"
        }
      ],
      "execution_count": 1
    },
    {
      "cell_type": "markdown",
      "source": "* Another table gives us the solutions for each observation.",
      "metadata": {
        "slideshow": {
          "slide_type": "slide"
        }
      }
    },
    {
      "cell_type": "code",
      "source": "digits.target",
      "metadata": {
        "slideshow": {
          "slide_type": "fragment"
        }
      },
      "outputs": [
        {
          "data": {
            "text/plain": [
              "array([0, 1, 2, ..., 8, 9, 8])"
            ]
          },
          "execution_count": 2,
          "metadata": {},
          "output_type": "execute_result"
        }
      ],
      "execution_count": 2
    },
    {
      "cell_type": "markdown",
      "source": "* Why do we have 64 features?\n\n* In the raw data, each sample is an 8-row, 8-column array, which we can view via `digits.images[0]`.",
      "metadata": {
        "slideshow": {
          "slide_type": "slide"
        }
      }
    },
    {
      "cell_type": "code",
      "source": "print(digits.images.shape)\ndigits.images[0]",
      "metadata": {
        "slideshow": {
          "slide_type": "fragment"
        }
      },
      "outputs": [
        {
          "name": "stdout",
          "output_type": "stream",
          "text": [
            "(1797, 8, 8)\n"
          ]
        },
        {
          "data": {
            "text/plain": [
              "array([[ 0.,  0.,  5., 13.,  9.,  1.,  0.,  0.],\n",
              "       [ 0.,  0., 13., 15., 10., 15.,  5.,  0.],\n",
              "       [ 0.,  3., 15.,  2.,  0., 11.,  8.,  0.],\n",
              "       [ 0.,  4., 12.,  0.,  0.,  8.,  8.,  0.],\n",
              "       [ 0.,  5.,  8.,  0.,  0.,  9.,  8.,  0.],\n",
              "       [ 0.,  4., 11.,  0.,  1., 12.,  7.,  0.],\n",
              "       [ 0.,  2., 14.,  5., 10., 12.,  0.,  0.],\n",
              "       [ 0.,  0.,  6., 13., 10.,  0.,  0.,  0.]])"
            ]
          },
          "execution_count": 3,
          "metadata": {},
          "output_type": "execute_result"
        }
      ],
      "execution_count": 3
    },
    {
      "cell_type": "markdown",
      "source": "* Thanks to matplotlib we can see what this table is.",
      "metadata": {
        "slideshow": {
          "slide_type": "slide"
        }
      }
    },
    {
      "cell_type": "code",
      "source": "import matplotlib.pyplot as plt\n\nplt.style.use('default')\nplt.grid()\nplt.imshow(digits.images[0], cmap=plt.cm.gray_r, interpolation='nearest', extent=(0, 8, 0, 8))",
      "metadata": {
        "slideshow": {
          "slide_type": "slide"
        }
      },
      "outputs": [
        {
          "data": {
            "text/plain": [
              "<matplotlib.image.AxesImage at 0x133309ca0>"
            ]
          },
          "execution_count": 4,
          "metadata": {},
          "output_type": "execute_result"
        },
        {
          "data": {
            "image/png": "[encoded data removed]",
            "text/plain": [
              "<Figure size 640x480 with 1 Axes>"
            ]
          },
          "metadata": {},
          "output_type": "display_data"
        }
      ],
      "execution_count": 4
    },
    {
      "cell_type": "markdown",
      "source": "* But here we have 10 classes (one for each digit).\n\n* How can we handle this?",
      "metadata": {
        "slideshow": {
          "slide_type": "slide"
        }
      }
    },
    {
      "cell_type": "markdown",
      "source": "* There are two strategies for multi-class classification:\n\n * One-versus-One (OvO)\n\n * One-versus-All (OvA or One-versus-Rest, OvR).",
      "metadata": {
        "slideshow": {
          "slide_type": "slide"
        }
      }
    },
    {
      "cell_type": "markdown",
      "source": "* In the One-to-One strategy, if we have $K$ classes we create $\\binom{K}{2} = \\frac{K(K-1)}{2}$ classifiers.\n\n* Each of them classifies each sample between two classes.\n\n* We count the classification results for each sample.\n\n* Each sample will get the class of the majority of classifiers.",
      "metadata": {
        "slideshow": {
          "slide_type": "slide"
        }
      }
    },
    {
      "cell_type": "markdown",
      "source": "* Suppose we have five classes C1, C2, C3, C4, C5.\n\n* We will build 10 classifiers.\n\n* Here's what the results could look like for a sample, which we finally classify as C2:\n\n| Classifier | Class |\n|-------------|-------|\n|   C1, C2    |  C2   |\n|   C1, C3    |  C1   |\n|   C1, C4    |  C1   |\n|   C1, C5    |  C5   |\n|   C2, C3    |  C2   |\n|   C2, C4    |  C2   |\n|   C2, C5    |  C2   |\n|   C3, C4    |  C4   |\n|   C3, C5    |  C5   |\n|   C4, C5    |  C4   |",
      "metadata": {
        "slideshow": {
          "slide_type": "slide"
        }
      }
    },
    {
      "cell_type": "markdown",
      "source": "* In the One-to-All strategy, for $K$ classes we generate $K$ classifiers.\n\n* Each of them classifies each sample between one class and all the rest.\n\n* At the end, for each sample we choose the class in which the sample is classified best. In the case of Support Vector Machines the selection is made based on the distance from the hyperplane defined by each individual classifier.",
      "metadata": {
        "slideshow": {
          "slide_type": "slide"
        }
      }
    },
    {
      "cell_type": "markdown",
      "source": "* Suppose we have five classes C1, C2, C3, C4, C5.\n\n* We build five classifiers.\n\n* Each classifier gives a value corresponding to its belief about the respective class. If in the example the values ​​are as in the table below, the sample will be classified as C3:\n\n| Ταξινομητής  | Τιμή       |\n|--------------|------------|\n|   C1, Rest   |   0,7      |\n|   C2, Rest   |   0,6      |\n|   C3, Rest   |   0,8      |\n|   C4, Rest   |   0,5      |\n|   C5, Rest   |   0,4      |",
      "metadata": {
        "slideshow": {
          "slide_type": "slide"
        }
      }
    },
    {
      "cell_type": "markdown",
      "source": "* We will use a Support Vector Machine for our classifier.\n\n* The default kernel function uses the exponential function and accepts a hyperparameter $\\gamma$ which multiplies the exponent.\n\n* We will set $\\gamma = 0{,}001$.\n\n* We will also set $C = 100$. The `C' hyperparameter adjusts the stringency of the margin, the larger its value, the stricter the classifier.",
      "metadata": {
        "slideshow": {
          "slide_type": "slide"
        }
      }
    },
    {
      "cell_type": "code",
      "source": "from sklearn import svm\n\nclf = svm.SVC(gamma=0.001, C=100.)",
      "metadata": {
        "slideshow": {
          "slide_type": "fragment"
        }
      },
      "outputs": [],
      "execution_count": 5
    },
    {
      "cell_type": "markdown",
      "source": "* After building our classifier, we need to train it.\n\n* Training is done with the `fit()` method.\n\n* Since this is supervised learning, in the `fit()` method we will give the examples and their solutions.\n\n* As training data we will use all samples except the last one, which we will keep for testing.",
      "metadata": {
        "slideshow": {
          "slide_type": "slide"
        }
      }
    },
    {
      "cell_type": "code",
      "source": "clf.fit(digits.data[:-1], digits.target[:-1]) ",
      "metadata": {
        "slideshow": {
          "slide_type": "fragment"
        }
      },
      "outputs": [
        {
          "data": {
            "text/plain": [
              "SVC(C=100.0, gamma=0.001)"
            ]
          },
          "execution_count": 6,
          "metadata": {},
          "output_type": "execute_result"
        }
      ],
      "execution_count": 6
    },
    {
      "cell_type": "markdown",
      "source": "* We can now predict the class for unseen digits.\n\n* In our case, we ask the classifier to decide the class of the last image in our data, which was not used in the training phase.",
      "metadata": {
        "slideshow": {
          "slide_type": "slide"
        }
      }
    },
    {
      "cell_type": "code",
      "source": "clf.predict(digits.data[-1:])",
      "metadata": {
        "slideshow": {
          "slide_type": "fragment"
        }
      },
      "outputs": [
        {
          "data": {
            "text/plain": [
              "array([8])"
            ]
          },
          "execution_count": 7,
          "metadata": {},
          "output_type": "execute_result"
        }
      ],
      "execution_count": 7
    },
    {
      "cell_type": "markdown",
      "source": "* To see what it was:",
      "metadata": {
        "slideshow": {
          "slide_type": "slide"
        }
      }
    },
    {
      "cell_type": "code",
      "source": "plt.imshow(digits.images[-1], cmap=plt.cm.gray_r, \n           interpolation='nearest', extent=(0, 8, 0, 8))\nplt.grid()\n_ = plt.title(f'Predicted: {clf.predict(digits.data[-1:])[0]}\\nTarget: {digits.target[-1]}')",
      "metadata": {
        "slideshow": {
          "slide_type": "slide"
        }
      },
      "outputs": [
        {
          "data": {
            "image/png": "[encoded data removed]",
            "text/plain": [
              "<Figure size 640x480 with 1 Axes>"
            ]
          },
          "metadata": {},
          "output_type": "display_data"
        }
      ],
      "execution_count": 8
    },
    {
      "cell_type": "markdown",
      "source": "* The point is that for control we used one and only one digit.\n\n* This is not enough to be able to judge the performance of our classifier.\n\n* Before we move on, let's look at some more of the digits we have so we know what we're up against.",
      "metadata": {
        "slideshow": {
          "slide_type": "slide"
        }
      }
    },
    {
      "cell_type": "code",
      "source": "plt.figure(figsize=(10*1.5, 2*1.5))\nimages_and_labels = list(zip(digits.images, digits.target))\nnrows, ncols = 2, 10\nfor index, (image, label) in enumerate(images_and_labels[:20]):\n    plt.subplot(nrows, ncols, index+1)\n    plt.axis('off')\n    plt.imshow(image, cmap=plt.cm.gray_r, interpolation='nearest')\n    plt.title(f'label: {label}')\nplt.subplots_adjust(hspace=0.5)",
      "metadata": {
        "slideshow": {
          "slide_type": "fragment"
        }
      },
      "outputs": [
        {
          "data": {
            "image/png": "[encoded data removed]",
            "text/plain": [
              "<Figure size 1500x300 with 20 Axes>"
            ]
          },
          "metadata": {},
          "output_type": "display_data"
        }
      ],
      "execution_count": 9
    },
    {
      "cell_type": "markdown",
      "source": "* We will build a new classifier.\n\n* This time we will leave the `C` parameter at the default value (`C=1.0`), which means our classifier will be more relaxed.",
      "metadata": {
        "slideshow": {
          "slide_type": "slide"
        }
      }
    },
    {
      "cell_type": "code",
      "source": "classifier = svm.SVC(gamma=0.001)",
      "metadata": {
        "slideshow": {
          "slide_type": "fragment"
        }
      },
      "outputs": [],
      "execution_count": 10
    },
    {
      "cell_type": "markdown",
      "source": "* We will use half the digits for training.",
      "metadata": {
        "slideshow": {
          "slide_type": "slide"
        }
      }
    },
    {
      "cell_type": "code",
      "source": "half_samples = len(digits.images) // 2\n\nclassifier.fit(digits.data[:half_samples], digits.target[:half_samples])",
      "metadata": {
        "slideshow": {
          "slide_type": "fragment"
        }
      },
      "outputs": [
        {
          "data": {
            "text/plain": [
              "SVC(gamma=0.001)"
            ]
          },
          "execution_count": 11,
          "metadata": {},
          "output_type": "execute_result"
        }
      ],
      "execution_count": 11
    },
    {
      "cell_type": "markdown",
      "source": "* And the other half digits to learn.",
      "metadata": {
        "slideshow": {
          "slide_type": "slide"
        }
      }
    },
    {
      "cell_type": "code",
      "source": "expected = digits.target[half_samples:]\npredicted = classifier.predict(digits.data[half_samples:])",
      "metadata": {
        "slideshow": {
          "slide_type": "fragment"
        }
      },
      "outputs": [],
      "execution_count": 12
    },
    {
      "cell_type": "markdown",
      "source": "* We can display some of the digits, predictions, and target each time to get an idea of ​​how the classifier did.",
      "metadata": {
        "slideshow": {
          "slide_type": "slide"
        }
      }
    },
    {
      "cell_type": "code",
      "source": "plt.figure(figsize=(10*1.5, 2*1.5))\nimages_predictions_targets = list(zip(digits.images[half_samples:], predicted, expected))\nfor index, (image, prediction, target) in enumerate(images_predictions_targets[:20]):\n    plt.subplot(nrows, ncols, index + 1)\n    plt.axis('off')\n    plt.imshow(image, cmap=plt.cm.gray_r, interpolation='nearest')\n    plt.title(f'Prediction: {prediction}\\nTarget: {target}')\nplt.subplots_adjust(hspace=1)",
      "metadata": {
        "slideshow": {
          "slide_type": "fragment"
        }
      },
      "outputs": [
        {
          "data": {
            "image/png": "[encoded data removed]",
            "text/plain": [
              "<Figure size 1500x300 with 20 Axes>"
            ]
          },
          "metadata": {},
          "output_type": "display_data"
        }
      ],
      "execution_count": 13
    },
    {
      "cell_type": "markdown",
      "source": "* Of course, we cannot in practice judge the effectiveness of a classifier like this by eye.\n\n* For this purpose we use specific metrics.",
      "metadata": {
        "slideshow": {
          "slide_type": "slide"
        }
      }
    },
    {
      "cell_type": "markdown",
      "source": "* The most convenient way to see them is the *classification report* (classification report):",
      "metadata": {
        "slideshow": {
          "slide_type": "slide"
        }
      }
    },
    {
      "cell_type": "code",
      "source": "from sklearn import metrics\n\nprint(\"Classification report for classifier %s:\\n%s\\n\"\n      % (classifier, metrics.classification_report(expected, predicted)))",
      "metadata": {
        "slideshow": {
          "slide_type": "fragment"
        }
      },
      "outputs": [
        {
          "name": "stdout",
          "output_type": "stream",
          "text": [
            "Classification report for classifier SVC(gamma=0.001):\n",
            "              precision    recall  f1-score   support\n",
            "\n",
            "           0       1.00      0.99      0.99        88\n",
            "           1       0.99      0.97      0.98        91\n",
            "           2       0.99      0.99      0.99        86\n",
            "           3       0.98      0.87      0.92        91\n",
            "           4       0.99      0.96      0.97        92\n",
            "           5       0.95      0.97      0.96        91\n",
            "           6       0.99      0.99      0.99        91\n",
            "           7       0.96      0.99      0.97        89\n",
            "           8       0.94      1.00      0.97        88\n",
            "           9       0.93      0.98      0.95        92\n",
            "\n",
            "    accuracy                           0.97       899\n",
            "   macro avg       0.97      0.97      0.97       899\n",
            "weighted avg       0.97      0.97      0.97       899\n",
            "\n",
            "\n"
          ]
        }
      ],
      "execution_count": 14
    },
    {
      "cell_type": "markdown",
      "source": "* Let's consider the table contents one by one.\n\n* The *support* is the number of samples in each class.",
      "metadata": {
        "slideshow": {
          "slide_type": "slide"
        }
      }
    },
    {
      "cell_type": "markdown",
      "source": "* To understand the rest of the metrics, we will need the following sizes:\n\n * TP, True Positive\n * TN, True Negative\n * FP, False Positive\n * FN, False Negative\n * P, Positive, all positives in the population\n * N, Negative, all negatives in the population",
      "metadata": {
        "slideshow": {
          "slide_type": "slide"
        }
      }
    },
    {
      "cell_type": "markdown",
      "source": "* Accuracy gives us the percentage of correct predictions and is defined as:\n\n$$ \\frac{\\textrm{TP} + \\textrm{TN}}{\\textrm{Sample Size}} $$\n\n* We can get it with the `accuracy_score()` method.",
      "metadata": {
        "slideshow": {
          "slide_type": "slide"
        }
      }
    },
    {
      "cell_type": "code",
      "source": "metrics.accuracy_score(expected, predicted)",
      "metadata": {
        "slideshow": {
          "slide_type": "fragment"
        }
      },
      "outputs": [
        {
          "data": {
            "text/plain": [
              "0.9688542825361512"
            ]
          },
          "execution_count": 15,
          "metadata": {},
          "output_type": "execute_result"
        }
      ],
      "execution_count": 15
    },
    {
      "cell_type": "markdown",
      "source": "* Accuracy is displayed at the bottom of the classification report.",
      "metadata": {
        "slideshow": {
          "slide_type": "slide"
        }
      }
    },
    {
      "cell_type": "code",
      "source": "print(metrics.classification_report(expected, predicted))",
      "metadata": {
        "slideshow": {
          "slide_type": "fragment"
        }
      },
      "outputs": [
        {
          "name": "stdout",
          "output_type": "stream",
          "text": [
            "              precision    recall  f1-score   support\n",
            "\n",
            "           0       1.00      0.99      0.99        88\n",
            "           1       0.99      0.97      0.98        91\n",
            "           2       0.99      0.99      0.99        86\n",
            "           3       0.98      0.87      0.92        91\n",
            "           4       0.99      0.96      0.97        92\n",
            "           5       0.95      0.97      0.96        91\n",
            "           6       0.99      0.99      0.99        91\n",
            "           7       0.96      0.99      0.97        89\n",
            "           8       0.94      1.00      0.97        88\n",
            "           9       0.93      0.98      0.95        92\n",
            "\n",
            "    accuracy                           0.97       899\n",
            "   macro avg       0.97      0.97      0.97       899\n",
            "weighted avg       0.97      0.97      0.97       899\n",
            "\n"
          ]
        }
      ],
      "execution_count": 16
    },
    {
      "cell_type": "markdown",
      "source": "* The *precision* gives us the percentage of correct positives for all that we predicted positively.\n\n* Defined as:\n\n$$\\frac{\\textrm{TP}}{\\textrm{TP} + \\textrm{FP}} = \\frac{\\textrm{TP}}{\\textrm{All Positive Predictions}}$$\n\n* We can get it with the `precision_score()` method.\n\n* In the case that we have classification of several classes, to get the accuracy of each class we must give the parameter `average=None`.",
      "metadata": {
        "slideshow": {
          "slide_type": "slide"
        }
      }
    },
    {
      "cell_type": "code",
      "source": "metrics.precision_score(expected, predicted, average=None)",
      "metadata": {
        "slideshow": {
          "slide_type": "fragment"
        }
      },
      "outputs": [
        {
          "data": {
            "text/plain": [
              "array([1.        , 0.98876404, 0.98837209, 0.97530864, 0.98876404,\n",
              "       0.94623656, 0.98901099, 0.95652174, 0.93617021, 0.92783505])"
            ]
          },
          "execution_count": 17,
          "metadata": {},
          "output_type": "execute_result"
        }
      ],
      "execution_count": 17
    },
    {
      "cell_type": "markdown",
      "source": "* Alternatively, we can give the parameter `average=macro`, so we get the average of the accuracies for each class ",
      "metadata": {
        "slideshow": {
          "slide_type": "slide"
        }
      }
    },
    {
      "cell_type": "code",
      "source": "metrics.precision_score(expected, predicted, average='macro')",
      "metadata": {
        "slideshow": {
          "slide_type": "fragment"
        }
      },
      "outputs": [
        {
          "data": {
            "text/plain": [
              "0.9696983376479764"
            ]
          },
          "execution_count": 18,
          "metadata": {},
          "output_type": "execute_result"
        }
      ],
      "execution_count": 18
    },
    {
      "cell_type": "markdown",
      "source": "* Alternatively, we can give the parameter `average=weighted`, so we get the average of the accuracies for each class adjusted for the support of each class, i.e. the weighted average.\n\n* This may differ from the simple average in the case that our data is unbalanced and there is a difference in representation between classes.",
      "metadata": {
        "slideshow": {
          "slide_type": "slide"
        }
      }
    },
    {
      "cell_type": "code",
      "source": "metrics.precision_score(expected, predicted, average='weighted')",
      "metadata": {
        "slideshow": {
          "slide_type": "fragment"
        }
      },
      "outputs": [
        {
          "data": {
            "text/plain": [
              "0.9696092010839529"
            ]
          },
          "execution_count": 19,
          "metadata": {},
          "output_type": "execute_result"
        }
      ],
      "execution_count": 19
    },
    {
      "cell_type": "markdown",
      "source": "* Precision, both averages, is the first column of the classification report.",
      "metadata": {
        "slideshow": {
          "slide_type": "slide"
        }
      }
    },
    {
      "cell_type": "code",
      "source": "print(metrics.classification_report(expected, predicted))",
      "metadata": {
        "slideshow": {
          "slide_type": "fragment"
        }
      },
      "outputs": [
        {
          "name": "stdout",
          "output_type": "stream",
          "text": [
            "              precision    recall  f1-score   support\n",
            "\n",
            "           0       1.00      0.99      0.99        88\n",
            "           1       0.99      0.97      0.98        91\n",
            "           2       0.99      0.99      0.99        86\n",
            "           3       0.98      0.87      0.92        91\n",
            "           4       0.99      0.96      0.97        92\n",
            "           5       0.95      0.97      0.96        91\n",
            "           6       0.99      0.99      0.99        91\n",
            "           7       0.96      0.99      0.97        89\n",
            "           8       0.94      1.00      0.97        88\n",
            "           9       0.93      0.98      0.95        92\n",
            "\n",
            "    accuracy                           0.97       899\n",
            "   macro avg       0.97      0.97      0.97       899\n",
            "weighted avg       0.97      0.97      0.97       899\n",
            "\n"
          ]
        }
      ],
      "execution_count": 20
    },
    {
      "cell_type": "markdown",
      "source": "* The *recall* gives us the percentage of correct positives in terms of all the positives we should predict.\n\n* Defined as:\n\n$$\\frac{\\textrm{TP}}{\\textrm{TP} + \\textrm{FN}} = \\frac{\\textrm{TP}}{\\textrm{P}}$$\n\n* We can get it with the `recall_score()` method, with corresponding parameters of `precision_score()`.",
      "metadata": {
        "slideshow": {
          "slide_type": "slide"
        }
      }
    },
    {
      "cell_type": "code",
      "source": "print(metrics.recall_score(expected, predicted, average=None))\nprint(metrics.recall_score(expected, predicted, average='macro'))\nprint(metrics.recall_score(expected, predicted, average='weighted'))\n",
      "metadata": {
        "slideshow": {
          "slide_type": "fragment"
        }
      },
      "outputs": [
        {
          "name": "stdout",
          "output_type": "stream",
          "text": [
            "[0.98863636 0.96703297 0.98837209 0.86813187 0.95652174 0.96703297\n",
            " 0.98901099 0.98876404 1.         0.97826087]\n",
            "0.9691763901507882\n",
            "0.9688542825361512\n"
          ]
        }
      ],
      "execution_count": 21
    },
    {
      "cell_type": "markdown",
      "source": "* The recall appears in the second column of the classification report.",
      "metadata": {
        "slideshow": {
          "slide_type": "slide"
        }
      }
    },
    {
      "cell_type": "code",
      "source": "print(metrics.classification_report(expected, predicted))",
      "metadata": {
        "slideshow": {
          "slide_type": "fragment"
        }
      },
      "outputs": [
        {
          "name": "stdout",
          "output_type": "stream",
          "text": [
            "              precision    recall  f1-score   support\n",
            "\n",
            "           0       1.00      0.99      0.99        88\n",
            "           1       0.99      0.97      0.98        91\n",
            "           2       0.99      0.99      0.99        86\n",
            "           3       0.98      0.87      0.92        91\n",
            "           4       0.99      0.96      0.97        92\n",
            "           5       0.95      0.97      0.96        91\n",
            "           6       0.99      0.99      0.99        91\n",
            "           7       0.96      0.99      0.97        89\n",
            "           8       0.94      1.00      0.97        88\n",
            "           9       0.93      0.98      0.95        92\n",
            "\n",
            "    accuracy                           0.97       899\n",
            "   macro avg       0.97      0.97      0.97       899\n",
            "weighted avg       0.97      0.97      0.97       899\n",
            "\n"
          ]
        }
      ],
      "execution_count": 22
    },
    {
      "cell_type": "markdown",
      "source": "* Precision and recall are particularly important in heterogeneous data.\n\n* Suppose that our data belongs to two classes (positive and negative), and that 99.99% are negative and 0.01% are positive.\n\n* Then a classifier that knows nothing but always says no will have 99.99% accuracy!\n\n* But it will be completely useless.",
      "metadata": {
        "slideshow": {
          "slide_type": "slide"
        }
      }
    },
    {
      "cell_type": "markdown",
      "source": "* But such a classifier would have $\\textrm{TP} = 0$, so it would have zero precision and recall.\n\n* On the other hand, precision and recall measure different things.\n\n* If we build a very strict classifier that detects only one true positive sample, the precision will be 100% because $\\textrm{TP} = 1$ and $\\textrm{FP} = 0$, but the recall will be abysmal.\n\n* If we make a very lenient classifier that returns all positives, the recall will be 100% because $\\textrm{FN} = 0$, but the precision will be abysmal.",
      "metadata": {
        "slideshow": {
          "slide_type": "slide"
        }
      }
    },
    {
      "cell_type": "markdown",
      "source": "* The $F_1$ metric combines precision and recall.\n\n* Mathematically, it is the *harmonious mean* of precision and recall.\n\n* The harmonic mean of $n$ numbers $x_1, x_2, \\ldots, x_n$ is defined as:\n\n$$H={\\frac {n}{{\\frac {1}{x_{1}}}+{\\frac {1}{x_{2}}}+\\cdots +{\\frac {1}{x_{n}}}}}$$\n\n* Thus, the $F_1$ metric is:\n\n$$F_{1}=2\\cdot \\frac{1}{\\tfrac{1}{\\mathrm{precision}}+\\tfrac{1}{\\mathrm{recall}}} = 2\\cdot {\\frac{ \\mathrm{precision} \\cdot \\mathrm{recall}}{\\mathrm{precision} +\\mathrm{recall}}}$$\n\n* We use the $F_1$ metric instead of the simple mean because it penalizes outliers.\n\n* If either recall or precision is zero, the $F_1$ metric will be zero.",
      "metadata": {
        "slideshow": {
          "slide_type": "slide"
        }
      }
    },
    {
      "cell_type": "markdown",
      "source": "* Another way to evaluate the results is through the *confusion matrix*:",
      "metadata": {
        "slideshow": {
          "slide_type": "slide"
        }
      }
    },
    {
      "cell_type": "code",
      "source": "print(\"Confusion matrix:\\n%s\" % metrics.confusion_matrix(expected, predicted))",
      "metadata": {
        "slideshow": {
          "slide_type": "fragment"
        }
      },
      "outputs": [
        {
          "name": "stdout",
          "output_type": "stream",
          "text": [
            "Confusion matrix:\n",
            "[[87  0  0  0  1  0  0  0  0  0]\n",
            " [ 0 88  1  0  0  0  0  0  1  1]\n",
            " [ 0  0 85  1  0  0  0  0  0  0]\n",
            " [ 0  0  0 79  0  3  0  4  5  0]\n",
            " [ 0  0  0  0 88  0  0  0  0  4]\n",
            " [ 0  0  0  0  0 88  1  0  0  2]\n",
            " [ 0  1  0  0  0  0 90  0  0  0]\n",
            " [ 0  0  0  0  0  1  0 88  0  0]\n",
            " [ 0  0  0  0  0  0  0  0 88  0]\n",
            " [ 0  0  0  1  0  1  0  0  0 90]]\n"
          ]
        }
      ],
      "execution_count": 23
    },
    {
      "cell_type": "markdown",
      "source": "* The confusion matrix can be visualized via `ConfusionMatrixDisplay.from_estimator()` or `ConfusionMatrixDisplay.from_predictions()`.",
      "metadata": {
        "slideshow": {
          "slide_type": "slide"
        }
      }
    },
    {
      "cell_type": "code",
      "source": "_ = metrics.ConfusionMatrixDisplay.from_estimator(classifier, \n                                                  digits.data[half_samples:], \n                                                  digits.target[half_samples:])",
      "metadata": {
        "slideshow": {
          "slide_type": "fragment"
        }
      },
      "outputs": [
        {
          "data": {
            "image/png": "[encoded data removed]",
            "text/plain": [
              "<Figure size 640x480 with 2 Axes>"
            ]
          },
          "metadata": {},
          "output_type": "display_data"
        }
      ],
      "execution_count": 24
    },
    {
      "cell_type": "markdown",
      "source": "* Notice something: in statistics too we can (as we have seen) predict values ​​based on our data.\n\n### In statistics, however, our purpose is different: to *explain* our data, building a model.\n\n* We evaluate the model using statistical tests.\n\n### In Machine Learning, our purpose is not to explain our data. It is to use them to make predictions.\n\n* Here are the metrics we use to evaluate our results.",
      "metadata": {
        "slideshow": {
          "slide_type": "slide"
        }
      }
    }
  ]
}